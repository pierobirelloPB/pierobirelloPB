{
 "cells": [
  {
   "cell_type": "markdown",
   "id": "aee6edd2-8522-4539-be29-b1ca138caff5",
   "metadata": {},
   "source": [
    "# Gradient-based Path Finding \n",
    "\n",
    "Let's consider once again the task of finding a shortest path within a maze. In this instance we are interested in exploiting a gradient-based approach that plays nicely with vectorization. Assume it is possible to move only along the four main directions.\n",
    "\n",
    "The idea behind the algorithms is the following. It starts by initializing the value for the starting position to a given float value, for instance $1.0$. Every other traversable node is initially set to zero. The algorithm then iteratively updates the value of each cell by computing the maximum among its current value and the discounted value of all its neighbours. Such a discounted value is obtained by multiplying the current value of a neighbour by a given factor $\\delta$, with $\\delta < 1$. The procedure continues until the gradient reaches the target position, that in turn assumes a strictly positive value for the first time. The shortest path is identified by climbing the gradient, favouring the steepest ascent, from the end point.\n",
    "\n",
    "In the image below, you can find a visual representation of a few steps of the algorithm in a small sample maze, considering $\\delta$ equal to $0.9$.\n",
    "\n",
    "<center><img src=\"grad_maze.png\"/></center>\n",
    "\n",
    "For this task, a set of sample mazes of various shapes is available (in the subfolder `./mazes`). All mazes are solvable. All mazes have a frame of walls along the first/last row/column.\n",
    "\n",
    "As a sample result, the following image depicts the solution for maze number 4. Solid black cells are walls, solid white cells are unexplored areas, gradient-filled cells are nodes evaluated by the algorithm and white dots represent the path from start to exit.\n",
    "\n",
    "<center><img src=\"solved_maze_4.png\"/></center>\n",
    "\n",
    "Your task is to implement the proposed algorithm using both pure iteration in Python and in a vectorized fashion relying on NumPy, and to compare their performance."
   ]
  },
  {
   "cell_type": "code",
   "execution_count": 1,
   "id": "58143fe3-9c8d-4b39-ad4a-8fee6facdd40",
   "metadata": {},
   "outputs": [],
   "source": [
    "import numpy as np\n",
    "import matplotlib as mpl\n",
    "import matplotlib.pyplot as plt\n",
    "import time\n",
    "import glob\n",
    "import random\n",
    "from collections import deque\n",
    "from matplotlib.colors import LogNorm"
   ]
  },
  {
   "cell_type": "code",
   "execution_count": 77,
   "id": "200077cf-f08d-4e14-82da-124c3b722180",
   "metadata": {},
   "outputs": [
    {
     "name": "stdin",
     "output_type": "stream",
     "text": [
      "select a maze: - 0 - 1 - 2 - 3 - 4 \n",
      " 4\n"
     ]
    },
    {
     "name": "stdout",
     "output_type": "stream",
     "text": [
      "GOAL!\n",
      "non vectorized approach computational time: 0.022989511489868164\n",
      "vectorized approach computational time: 0.03360128402709961\n"
     ]
    },
    {
     "data": {
      "image/png": "[encoded data removed]",
      "text/plain": [
       "<Figure size 864x864 with 1 Axes>"
      ]
     },
     "metadata": {
      "needs_background": "light"
     },
     "output_type": "display_data"
    }
   ],
   "source": [
    "DELTA=.9\n",
    "\n",
    "def reader():\n",
    "    mazes_files=glob.glob('mazes'+'/*.npy')\n",
    "    mazes=[]\n",
    "    for maze_file in mazes_files:\n",
    "        with open(maze_file, 'rb') as fp:\n",
    "            mazes.append(np.load(fp))\n",
    "    return mazes\n",
    "\n",
    "def contour(maze,coords):\n",
    "    contour = set()\n",
    "    for j in (-1,0,1):\n",
    "        for k in (-1,0,1):\n",
    "            if not (j==k or j==-k):\n",
    "                neigh_coords=(coords[0]+j,coords[1]+k)\n",
    "                if not maze[neigh_coords[0],neigh_coords[1]]:\n",
    "                    contour.add(neigh_coords)               \n",
    "    return contour    \n",
    "        \n",
    "def gradient_computer(maze,gradient,coords):\n",
    "    return max(gradient[coords[0],coords[1]] , DELTA*max([gradient[neigh[0],neigh[1]] for neigh in contour(maze,coords)]))\n",
    "\n",
    "def algo(maze,gradient,start,stop):\n",
    "    \n",
    "    Q=deque()\n",
    "    discovered=set()\n",
    "    root=start\n",
    "    discovered.add(root)\n",
    "    Q.append(root)\n",
    "\n",
    "    while Q:\n",
    "        v=Q.popleft()\n",
    "        gradient[v[0],v[1]]=gradient_computer(maze,gradient,v)\n",
    "        if v==stop:\n",
    "            print('GOAL!')\n",
    "            return gradient\n",
    "        for w in contour(maze,v)-discovered:\n",
    "            discovered.add(w)\n",
    "            Q.append(w)\n",
    "            \n",
    "def algo_vec(gradient,stop):\n",
    "    while(gradient[stop]==0):\n",
    "        padded = np.pad(gradient, pad_width=1, mode='edge')# Pad the image: add two rows and two columns\n",
    "        center = padded[1:-1, 1:-1] # reference cell\n",
    "        top = DELTA*padded[:-2, 1:-1] # previous row, same column                 \n",
    "        bottom = DELTA*padded[2:, 1:-1] # next row, same column\n",
    "        left = DELTA*padded[1:-1, :-2] # same row, previous column\n",
    "        right = DELTA*padded[1:-1, 2:] # previous row, next column\n",
    "        np.maximum(center,np.maximum(np.maximum(top,bottom),np.maximum(left,right)),where=center!=-1,out=gradient)\n",
    "    return gradient\n",
    "\n",
    "def steepest_ascent(maze, gradient, start, stop):\n",
    "    root = stop\n",
    "    path = [root]\n",
    "    while root != start:\n",
    "        neighbors_grads = {neigh: gradient[neigh[0], neigh[1]] for neigh in contour(maze,root)}\n",
    "        root=max(neighbors_grads,key=neighbors_grads.get)\n",
    "        path.append(root)\n",
    "    return path\n",
    "\n",
    "def plotter(gradient,path):\n",
    "    path_matrix=np.zeros_like(gradient)\n",
    "    for loc in path[1:-1]:\n",
    "        path_matrix[loc]=1\n",
    "    discovered = np.ma.masked_array(gradient, gradient <= 0)\n",
    "    atlantis = np.ma.masked_array(gradient, gradient != 0)\n",
    "    walls = np.ma.masked_array(gradient, gradient != -1) \n",
    "    fig,ax=plt.subplots(figsize=(12,12))\n",
    "    ax.imshow(discovered,cmap='viridis',norm=LogNorm())\n",
    "    for (j,i),dot in np.ndenumerate(path_matrix):\n",
    "        if dot==1:\n",
    "            ax.plot(i,j,'o',color='lightsteelblue',mec='darkblue')\n",
    "    ax.text(path[-1][1],path[-1][0],'S',weight='black',color='red',ha='center',va='center')\n",
    "    ax.text(path[0][1],path[0][0],'E',weight='black',color='lime',ha='center',va='center')\n",
    "    ax.imshow(atlantis,cmap='binary')\n",
    "    ax.imshow(walls,cmap='gray')\n",
    "    plt.axis('off')\n",
    "    #fig.savefig('C:/Users/piero/Documents/PHD/corsi/data_structures/M4/GradientPath')\n",
    "                       \n",
    "def main():\n",
    "    \n",
    "    mazes=reader()\n",
    "    i=input(\"select a maze: - 0 - 1 - 2 - 3 - 4 \\n\")\n",
    "    maze=mazes[int(i)]\n",
    "    start=(1,1)\n",
    "    stop=(len(maze)-2,len(maze[0])-2)\n",
    "    gradient=-1.*maze\n",
    "    gradient[start[0],start[1]]=1\n",
    "    gradient_vec=gradient.copy()\n",
    "    \n",
    "    one=time.time()\n",
    "    gradient=algo(maze,gradient,start,stop)\n",
    "    two=time.time()\n",
    "    print('non vectorized approach computational time: '+str(two-one))\n",
    "    \n",
    "    gradient_vec=algo_vec(gradient_vec,stop)\n",
    "    print('vectorized approach computational time: '+str(time.time()-two))\n",
    "    \n",
    "    shortest_path=steepest_ascent(maze,gradient_vec,start,stop)\n",
    "    plotter(gradient,shortest_path)\n",
    "    \n",
    "    pass\n",
    "\n",
    "if __name__ == '__main__':\n",
    "    main()   \n",
    "    "
   ]
  },
  {
   "cell_type": "code",
   "execution_count": null,
   "id": "37bfa598-baef-43b1-a85e-34b767c3aea3",
   "metadata": {},
   "outputs": [],
   "source": []
  }
 ],
 "metadata": {
  "kernelspec": {
   "display_name": "Python 3 (ipykernel)",
   "language": "python",
   "name": "python3"
  },
  "language_info": {
   "codemirror_mode": {
    "name": "ipython",
    "version": 3
   },
   "file_extension": ".py",
   "mimetype": "text/x-python",
   "name": "python",
   "nbconvert_exporter": "python",
   "pygments_lexer": "ipython3",
   "version": "3.9.12"
  }
 },
 "nbformat": 4,
 "nbformat_minor": 5
}
